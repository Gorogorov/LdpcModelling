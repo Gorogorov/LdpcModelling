{
 "cells": [
  {
   "cell_type": "code",
   "execution_count": 66,
   "metadata": {},
   "outputs": [
    {
     "name": "stdout",
     "output_type": "stream",
     "text": [
      "None\n",
      "3.139043622532764e-11\n",
      "2.652501048671833e-09\n",
      "3.9841953545574576e-06\n",
      "6.914171306345821e-07\n",
      "4.851598937986324e-05\n",
      "3.3231876954672516e-05\n",
      "0.00022939421941350083\n",
      "1.620080195131822e-05\n",
      "6.675513542813178e-05\n",
      "7.358796191409933e-05\n",
      "0.00011311734749592783\n",
      "8.506370008928079e-05\n",
      "8.79522332926481e-05\n",
      "7.726811675746668e-05\n",
      "7.172607909829403e-05\n",
      "7.274518885395726e-05\n",
      "6.92876567425337e-05\n",
      "6.67895487752163e-05\n",
      "6.482748087276233e-05\n",
      "6.274283510513335e-05\n"
     ]
    }
   ],
   "source": [
    "import pandas as pd\n",
    "import numpy as np \n",
    "\n",
    "filename = \"C:\\\\Users\\\\ische\\\\source\\\\repos\\\\LdpcModelling\\\\LDPC_cpp\\\\x64\\\\Release\\\\ffh.prob.H.G.4-21_23-28-2.debug\"\n",
    "data = pd.read_csv(filename, header=None, comment='#', nrows=100 )\n",
    "print(data.drop(columns=[100], inplace=True))\n",
    "\n",
    "prob = data.iloc[it]\n",
    "H = data.iloc[it]\n",
    "G = data.iloc[it]\n",
    "\n",
    "max_it = data.shape[0] // 3\n",
    "L = data.shape[1]\n",
    "\n",
    "for up_it in range(max_it):\n",
    "    prob = data.iloc[up_it*3]\n",
    "    prob_mean = prob.mean()\n",
    "    prob_norm = np.exp(prob-prob_mean).sum()\n",
    "    prob_error = 0\n",
    "    \n",
    "    for bin_num in range(L):\n",
    "        el_num = 0;\n",
    "        er_num = 0;\n",
    "        \n",
    "        for it in range(up_it+1):\n",
    "            el_num += data.iloc[3*it + 1, bin_num]\n",
    "            er_num += data.iloc[3*it + 2, bin_num]\n",
    "        \n",
    "        prob_error += np.exp(prob[bin_num] - prob_mean) / prob_norm * er_num / el_num\n",
    "       \n",
    "    print(prob_error)\n"
   ]
  },
  {
   "cell_type": "code",
   "execution_count": null,
   "metadata": {},
   "outputs": [],
   "source": []
  },
  {
   "cell_type": "code",
   "execution_count": null,
   "metadata": {},
   "outputs": [],
   "source": []
  }
 ],
 "metadata": {
  "kernelspec": {
   "display_name": "Python 3",
   "language": "python",
   "name": "python3"
  },
  "language_info": {
   "codemirror_mode": {
    "name": "ipython",
    "version": 3
   },
   "file_extension": ".py",
   "mimetype": "text/x-python",
   "name": "python",
   "nbconvert_exporter": "python",
   "pygments_lexer": "ipython3",
   "version": "3.7.3"
  }
 },
 "nbformat": 4,
 "nbformat_minor": 2
}
