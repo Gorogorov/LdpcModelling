{
 "cells": [
  {
   "cell_type": "code",
   "execution_count": 62,
   "metadata": {},
   "outputs": [
    {
     "name": "stdout",
     "output_type": "stream",
     "text": [
      "None\n",
      "2.339077276161536e-11\n",
      "1.0820820574720601e-10\n",
      "9.318335381917234e-07\n",
      "2.7956006082594225e-07\n",
      "1.651723352541834e-05\n",
      "9.746257780841511e-05\n",
      "3.3598389755299886e-05\n",
      "7.572897150015569e-05\n",
      "9.790384118244224e-05\n",
      "0.00011808345497554925\n"
     ]
    }
   ],
   "source": [
    "import pandas as pd\n",
    "import numpy as np \n",
    "\n",
    "filename = \"C:\\\\Users\\\\ische\\\\source\\\\repos\\\\LdpcModelling\\\\LDPC_cpp\\\\x64\\\\Release\\\\ffh.prob.H.G.4-21_18-55-15.debug\"\n",
    "data = pd.read_csv(filename, header=None, comment='#', nrows=100 )\n",
    "print(data.drop(columns=[100], inplace=True))\n",
    "\n",
    "prob = data.iloc[it]\n",
    "H = data.iloc[it]\n",
    "G = data.iloc[it]\n",
    "\n",
    "max_it = data.shape[0] // 3\n",
    "L = data.shape[1]\n",
    "\n",
    "for up_it in range(max_it):\n",
    "    prob = data.iloc[up_it*3]\n",
    "    prob_mean = prob.mean()\n",
    "    prob_norm = np.exp(prob-prob_mean).sum()\n",
    "    prob_error = 0\n",
    "    \n",
    "    for bin_num in range(L):\n",
    "        el_num = 0;\n",
    "        er_num = 0;\n",
    "        \n",
    "        for it in range(up_it+1):\n",
    "            el_num += data.iloc[3*it + 1, bin_num]\n",
    "            er_num += data.iloc[3*it + 2, bin_num]\n",
    "        \n",
    "        prob_error += np.exp(prob[bin_num] - prob_mean) / prob_norm * er_num / el_num\n",
    "       \n",
    "    print(prob_error)\n"
   ]
  },
  {
   "cell_type": "code",
   "execution_count": null,
   "metadata": {},
   "outputs": [],
   "source": []
  },
  {
   "cell_type": "code",
   "execution_count": null,
   "metadata": {},
   "outputs": [],
   "source": []
  }
 ],
 "metadata": {
  "kernelspec": {
   "display_name": "Python 3",
   "language": "python",
   "name": "python3"
  },
  "language_info": {
   "codemirror_mode": {
    "name": "ipython",
    "version": 3
   },
   "file_extension": ".py",
   "mimetype": "text/x-python",
   "name": "python",
   "nbconvert_exporter": "python",
   "pygments_lexer": "ipython3",
   "version": "3.7.3"
  }
 },
 "nbformat": 4,
 "nbformat_minor": 2
}
