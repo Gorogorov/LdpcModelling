{
 "cells": [
  {
   "cell_type": "code",
   "execution_count": 67,
   "metadata": {},
   "outputs": [
    {
     "name": "stdout",
     "output_type": "stream",
     "text": [
      "None\n",
      "7.981049520100968e-29\n",
      "3.4497486636147456e-15\n",
      "1.1489575166328768e-09\n",
      "9.072227417732078e-07\n",
      "9.375982180627415e-07\n",
      "4.833095743752742e-06\n",
      "4.9738168397439816e-05\n",
      "0.00011912210312815733\n",
      "0.00010435399814496305\n",
      "6.961858088057894e-05\n",
      "6.085917452169993e-05\n",
      "5.67848897061614e-05\n",
      "3.9956610854837736e-05\n",
      "4.433160745135475e-05\n",
      "4.566383374715874e-05\n",
      "4.9401106959863496e-05\n",
      "4.9920896121330545e-05\n",
      "4.845873150949244e-05\n",
      "4.735925337367956e-05\n",
      "4.603170565069859e-05\n"
     ]
    }
   ],
   "source": [
    "import pandas as pd\n",
    "import numpy as np \n",
    "\n",
    "filename = \"C:\\\\Users\\\\ische\\\\source\\\\repos\\\\LdpcModelling\\\\LDPC_cpp\\\\x64\\\\Release\\\\ffh.prob.H.G.4-21_23-28-2.debug\"\n",
    "data = pd.read_csv(filename, header=None, comment='#', nrows=100 )\n",
    "print(data.drop(columns=[100], inplace=True))\n",
    "\n",
    "prob = data.iloc[it]\n",
    "H = data.iloc[it]\n",
    "G = data.iloc[it]\n",
    "\n",
    "max_it = data.shape[0] // 3\n",
    "L = data.shape[1]\n",
    "\n",
    "for up_it in range(max_it):\n",
    "    prob = data.iloc[up_it*3]\n",
    "    prob_mean = prob.mean()\n",
    "    prob_norm = np.exp(prob-prob_mean).sum()\n",
    "    prob_error = 0\n",
    "    \n",
    "    for bin_num in range(L):\n",
    "        el_num = 0;\n",
    "        er_num = 0;\n",
    "        \n",
    "        for it in range(up_it+1):\n",
    "            el_num += data.iloc[3*it + 1, bin_num]\n",
    "            er_num += data.iloc[3*it + 2, bin_num]\n",
    "        \n",
    "        prob_error += np.exp(prob[bin_num] - prob_mean) / prob_norm * er_num / el_num\n",
    "       \n",
    "    print(prob_error)\n"
   ]
  },
  {
   "cell_type": "code",
   "execution_count": null,
   "metadata": {},
   "outputs": [],
   "source": []
  },
  {
   "cell_type": "code",
   "execution_count": null,
   "metadata": {},
   "outputs": [],
   "source": []
  }
 ],
 "metadata": {
  "kernelspec": {
   "display_name": "Python 3",
   "language": "python",
   "name": "python3"
  },
  "language_info": {
   "codemirror_mode": {
    "name": "ipython",
    "version": 3
   },
   "file_extension": ".py",
   "mimetype": "text/x-python",
   "name": "python",
   "nbconvert_exporter": "python",
   "pygments_lexer": "ipython3",
   "version": "3.7.3"
  }
 },
 "nbformat": 4,
 "nbformat_minor": 2
}
