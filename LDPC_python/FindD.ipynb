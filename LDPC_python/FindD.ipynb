{
 "cells": [
  {
   "cell_type": "code",
   "execution_count": 30,
   "metadata": {},
   "outputs": [
    {
     "name": "stdout",
     "output_type": "stream",
     "text": [
      "(12, 24)\n",
      "4\n"
     ]
    }
   ],
   "source": [
    "import numpy as np\n",
    "\n",
    "matrix = np.array([[1,1,1,0,0,1,1,0,0,0,1,0],\n",
    "                  [1,1,1,1,1,0,0,0,0,0,0,1],\n",
    "                  [0,0,0,0,0,1,1,1,0,1,1,1],\n",
    "                  [1,0,0,1,0,0,0,1,1,1,0,1],\n",
    "                  [0,1,0,1,1,0,1,1,1,0,0,0],\n",
    "                  [0,0,1,0,1,1,0,0,1,1,1,0]])\n",
    "\n",
    "matrix = np.loadtxt(open(\"../Matrices/FromMatlabScript/h4.csv\", \"rb\"), dtype=int, delimiter=\",\", skiprows=0)\n",
    "\n",
    "print(matrix.shape)\n",
    "\n",
    "m,n = matrix.shape\n",
    "d = n + 1;\n",
    "for i in range(1, 2**m):\n",
    "    c = [int(s) for s in bin(i)[2:].zfill(m)]\n",
    "    weight = (np.dot(c, matrix) % 2).sum()\n",
    "    if weight==0:\n",
    "        continue\n",
    "    if weight < d:\n",
    "        d = weight\n",
    "        \n",
    "print(d)"
   ]
  },
  {
   "cell_type": "code",
   "execution_count": null,
   "metadata": {},
   "outputs": [],
   "source": []
  }
 ],
 "metadata": {
  "kernelspec": {
   "display_name": "Python 3",
   "language": "python",
   "name": "python3"
  },
  "language_info": {
   "codemirror_mode": {
    "name": "ipython",
    "version": 3
   },
   "file_extension": ".py",
   "mimetype": "text/x-python",
   "name": "python",
   "nbconvert_exporter": "python",
   "pygments_lexer": "ipython3",
   "version": "3.7.3"
  }
 },
 "nbformat": 4,
 "nbformat_minor": 2
}
