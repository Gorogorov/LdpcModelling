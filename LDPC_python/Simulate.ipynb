{
 "cells": [
  {
   "cell_type": "code",
   "execution_count": 42,
   "metadata": {},
   "outputs": [],
   "source": [
    "import numpy as np\n",
    "import math\n",
    "from collections import namedtuple\n",
    "\n",
    "from onms_decoder import OnmsDecoder\n",
    "from awgn import Awgn\n",
    "from bpsk import Bpsk\n",
    "from awgn_llr_adapter import AwgnLlrAdapter\n"
   ]
  },
  {
   "cell_type": "code",
   "execution_count": 46,
   "metadata": {},
   "outputs": [],
   "source": [
    "Settings = namedtuple('Settings', 'max_iter rejections_count snr_array')"
   ]
  },
  {
   "cell_type": "code",
   "execution_count": 66,
   "metadata": {},
   "outputs": [],
   "source": [
    "def get_sigma(snr):\n",
    "    return np.sqrt(10 ** (-snr/10)/2)\n",
    "\n",
    "def simulate(settings, codeword, modulation, channel, decoder, decoder_adapter=None):\n",
    "    \n",
    "    simulations_count = len(settings.snr_array)\n",
    "    fers = []\n",
    "    is_max_iteration_reached = []\n",
    "    \n",
    "    for snr in settings.snr_array:\n",
    "        \n",
    "        sigma = get_sigma(snr)\n",
    "        channel.sigma = sigma\n",
    "        decoder_adapter.sigma = sigma\n",
    "        \n",
    "        errors_count = 0\n",
    "        iterations_count = 0\n",
    "        \n",
    "        while (errors_count <= settings.rejections_count) and (iterations_count < settings.max_iter): \n",
    "            modulated = modulation.modulate(codeword);\n",
    "            transmitted = channel.simulate(modulated);\n",
    "            \n",
    "            if decoder_adapter is not None:\n",
    "                transmitted = decoder_adapter.adapt(transmitted)\n",
    "\n",
    "            decoded = decoder.decode(transmitted)\n",
    "            errors_count += not decoded[0]\n",
    "            iterations_count += 1\n",
    "        \n",
    "        fer = errors_count / iterations_count\n",
    "        fers.append(fer)\n",
    "        is_max_iteration_reached.append(settings.max_iter == iterations_count)\n",
    "        \n",
    "    return {'snr': settings.snr_array.copy, 'fers':fers, 'is_max_iteration_reached':is_max_iteration_reached }"
   ]
  },
  {
   "cell_type": "code",
   "execution_count": 67,
   "metadata": {},
   "outputs": [
    {
     "name": "stdout",
     "output_type": "stream",
     "text": [
      "[0.07848101265822785, 0.07598039215686274, 0.043909348441926344, 0.038130381303813035, 0.0]\n"
     ]
    }
   ],
   "source": [
    "H = np.array([[1, 1, 1, 1, 0, 0], [0, 0, 1, 1, 0, 1], [1, 0, 0, 1, 1, 0]])\n",
    "codeword = np.array([0, 0, 1, 1, 1, 0])\n",
    "\n",
    "decoder = OnmsDecoder(H);\n",
    "channel = Awgn()\n",
    "modulation = Bpsk()\n",
    "adapter = AwgnLlrAdapter()\n",
    "\n",
    "settings = Settings(100000, 30, [0, 0.5, 1, 1.5, 10])\n",
    "result = simulate(settings, codeword, modulation, channel, decoder, adapter)\n",
    "print(result['fers'])"
   ]
  },
  {
   "cell_type": "code",
   "execution_count": null,
   "metadata": {},
   "outputs": [],
   "source": []
  },
  {
   "cell_type": "code",
   "execution_count": null,
   "metadata": {},
   "outputs": [],
   "source": []
  }
 ],
 "metadata": {
  "kernelspec": {
   "display_name": "Python 3",
   "language": "python",
   "name": "python3"
  },
  "language_info": {
   "codemirror_mode": {
    "name": "ipython",
    "version": 3
   },
   "file_extension": ".py",
   "mimetype": "text/x-python",
   "name": "python",
   "nbconvert_exporter": "python",
   "pygments_lexer": "ipython3",
   "version": "3.7.3"
  }
 },
 "nbformat": 4,
 "nbformat_minor": 2
}
