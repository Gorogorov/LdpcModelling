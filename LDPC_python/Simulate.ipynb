{
 "cells": [
  {
   "cell_type": "code",
   "execution_count": 1,
   "metadata": {},
   "outputs": [],
   "source": [
    "import numpy as np\n",
    "import math\n",
    "import matplotlib.pyplot as plt\n",
    "from collections import namedtuple\n",
    "\n",
    "from onms_decoder import OnmsDecoder\n",
    "from awgn import Awgn\n",
    "from bpsk import Bpsk\n",
    "from awgn_llr_adapter import AwgnLlrAdapter\n",
    "%load_ext line_profiler"
   ]
  },
  {
   "cell_type": "code",
   "execution_count": 2,
   "metadata": {},
   "outputs": [],
   "source": [
    "Settings = namedtuple('Settings', 'max_iter rejections_count snr_array')"
   ]
  },
  {
   "cell_type": "code",
   "execution_count": 15,
   "metadata": {},
   "outputs": [],
   "source": [
    "#%%writefile simulation.py\n",
    "import numpy as np\n",
    "import math\n",
    "import matplotlib.pyplot as plt\n",
    "from collections import namedtuple\n",
    "\n",
    "from onms_decoder import OnmsDecoder\n",
    "from awgn import Awgn\n",
    "from bpsk import Bpsk\n",
    "from awgn_llr_adapter import AwgnLlrAdapter\n",
    "\n",
    "Settings = namedtuple('Settings', 'max_iter rejections_count snr_array')\n",
    "\n",
    "def get_sigma(snr):\n",
    "    return np.sqrt(10 ** (-snr/10)/2)\n",
    "\n",
    "def simulate(settings, codeword, modulation, channel, decoder, decoder_adapter=None):\n",
    "    \n",
    "    simulations_count = len(settings.snr_array)\n",
    "    fers = []\n",
    "    is_max_iteration_reached = []\n",
    "    sigmas = []\n",
    "    \n",
    "    for snr in settings.snr_array:\n",
    "        \n",
    "        sigma = get_sigma(snr)\n",
    "        channel.sigma = sigma\n",
    "        decoder_adapter.sigma = sigma\n",
    "        \n",
    "        errors_count = 0\n",
    "        iterations_count = 0\n",
    "        \n",
    "        while (errors_count <= settings.rejections_count) and (iterations_count < settings.max_iter): \n",
    "            modulated = modulation.modulate(codeword);\n",
    "            transmitted = channel.simulate(modulated);\n",
    "            if decoder_adapter is not None:\n",
    "                transmitted = decoder_adapter.adapt(transmitted)\n",
    "            \n",
    "            print(transmitted)\n",
    "            decoded = decoder.decode(transmitted)\n",
    "            errors_count += not decoded[0]\n",
    "            iterations_count += 1\n",
    "        \n",
    "        fer = errors_count / iterations_count\n",
    "        fers.append(fer)\n",
    "        is_max_iteration_reached.append(settings.max_iter == iterations_count)\n",
    "        sigmas.append(sigma)\n",
    "        \n",
    "    return {'snr': settings.snr_array.copy(),\n",
    "            'sigmas' : sigma,\n",
    "            'fers':fers,\n",
    "            'is_max_iteration_reached':is_max_iteration_reached }"
   ]
  },
  {
   "cell_type": "code",
   "execution_count": 16,
   "metadata": {},
   "outputs": [],
   "source": [
    "from scipy.io import loadmat\n",
    "from scipy import sparse\n",
    "\n",
    "H = np.array([[1, 1, 1, 1, 0, 0], [0, 0, 1, 1, 0, 1], [1, 0, 0, 1, 1, 0]])\n",
    "codeword = np.array([0, 0, 1, 1, 1, 0])\n",
    "\n",
    "mat = loadmat('H_389_485.mat')\n",
    "H_big = mat['Hb']\n",
    "codeword_big = np.zeros(H_big.shape[1])"
   ]
  },
  {
   "cell_type": "code",
   "execution_count": 17,
   "metadata": {},
   "outputs": [
    {
     "name": "stdout",
     "output_type": "stream",
     "text": [
      "[ 3.27761196e+00  3.24549584e+00  1.21270713e+00  2.16499887e+00\n",
      "  2.91373890e+00 -2.83404994e-01  1.09601991e+00 -1.07827160e+00\n",
      "  4.33463749e+00  1.14626327e+00 -2.65910701e+00  2.93263876e-01\n",
      "  1.84670230e-01  3.43697534e+00  6.45642658e-01  2.08096376e+00\n",
      "  3.06552394e+00  1.81770011e+00  2.60593667e+00  3.43522972e+00\n",
      " -1.08958574e+00  3.76973263e+00 -1.43508159e+00  2.54609920e+00\n",
      "  7.15677128e-01  1.70598297e+00 -2.00114907e-01  7.66701583e-01\n",
      " -6.68914055e-01 -5.49705868e-01  5.78603050e-01  2.22315971e+00\n",
      "  2.09390888e+00  1.58825987e+00  5.05064076e+00 -2.16697334e-03\n",
      "  3.74108786e+00  7.53328979e-01  2.89502852e+00  7.12979617e-01\n",
      "  4.03508757e+00  3.06309265e-01 -1.20084433e-01  1.54367588e+00\n",
      "  2.58210738e+00  2.92895991e+00  8.64561135e-01  2.96966012e+00\n",
      "  2.93859488e-01  2.67228064e+00  3.87604366e+00  1.31819162e+00\n",
      "  9.88864615e-01  1.16340069e+00  5.79559976e-01 -1.55660788e+00\n",
      "  2.82892290e+00  1.22946757e+00  1.11105358e+00 -1.61732735e-02\n",
      " -1.20538430e-02  1.33967436e+00  2.98216654e+00  4.15562404e+00\n",
      " -8.01866595e-01 -1.91243900e+00  3.53048855e+00  1.96289437e+00\n",
      "  2.91410909e+00  3.61955092e+00  3.79041190e+00 -2.47706220e+00\n",
      "  2.46609370e+00  1.95804411e+00  3.96156007e+00  2.55008754e-01\n",
      "  1.29442935e+00  7.22180898e-01  2.74729320e+00  6.79519391e-02\n",
      "  2.53683799e+00  3.48911167e+00  4.35729879e+00  3.41807518e+00\n",
      "  7.01411568e-01  1.14544263e+00  1.95480556e+00 -2.04917262e+00\n",
      " -1.83676347e-01  1.56577582e+00  1.24323005e-02  5.35489486e-01\n",
      " -1.19128943e+00  1.79297760e+00  4.82931244e+00  6.14538880e-01\n",
      "  1.11744197e+00 -2.10559292e+00  1.10969223e+00  1.34716815e+00\n",
      "  5.32017156e+00  4.71652971e-01  3.42347753e+00  3.23304462e-01\n",
      "  2.42248090e+00  9.33637914e-01  9.01171112e-01 -5.66205944e-01\n",
      "  2.59786932e-01  3.77499876e+00  8.96033148e-01  5.93656254e-01\n",
      "  1.70774157e+00  1.47089454e+00  8.45752428e-01 -2.07617660e+00\n",
      "  5.58324369e+00  4.54068996e+00  1.81171747e+00 -1.00153590e+00\n",
      " -6.74644658e-01  8.33666081e-01  2.55267290e+00  1.30524191e+00\n",
      "  3.52739878e+00  4.36960653e+00  1.44894388e+00  3.06114131e-01\n",
      "  7.55373835e-02 -1.77828059e+00  4.18869686e+00  4.62161365e+00\n",
      "  4.93692366e+00 -9.77344833e-01  1.51376091e+00  9.27297595e-02\n",
      "  4.90408986e+00 -3.39749887e-02  2.77781868e+00 -2.49730181e+00\n",
      "  3.86650097e+00  1.18664303e+00  1.30823030e+00  1.36989114e+00\n",
      "  6.29552213e-01  3.86119902e+00 -5.90863312e-01  5.05345757e-01\n",
      "  1.41156430e+00  1.66501040e+00  4.40360581e-01  5.70523539e-01\n",
      "  4.13099350e+00  2.55149682e+00  1.28567245e+00  2.27742039e+00\n",
      " -2.65625638e+00  1.54486802e+00 -5.49973877e-01  2.40585498e+00\n",
      "  2.55993431e+00  2.51612543e+00  6.18848831e-01  9.18190943e-01\n",
      "  7.07166398e+00 -4.70981883e-01  4.61100861e+00  5.77580302e+00\n",
      " -1.59873910e-01  3.68098360e+00  1.92335238e+00  3.44313640e+00\n",
      "  2.76144503e+00  2.09327892e+00  4.47929716e+00  3.45193229e+00\n",
      "  8.17118143e-01 -1.84551210e+00  1.51098512e+00 -1.45258207e+00\n",
      "  3.38216273e-01  1.79083690e+00  1.23938821e+00 -1.11074654e+00\n",
      "  1.01239111e+00 -4.45291278e-01  2.29244451e+00  6.71390821e-01\n",
      "  1.29389406e+00  1.30808441e+00  4.77388565e+00  1.11013872e+00\n",
      "  3.05854513e+00  3.04922304e+00  2.12492882e+00  4.52119888e+00\n",
      "  3.67636354e-02  2.02801860e+00  2.19336245e+00 -5.80423203e-01\n",
      "  2.87581981e+00  3.23040194e+00 -8.67760356e-01 -4.22666331e-01\n",
      "  4.98236241e+00 -1.51251411e-02 -2.21104176e-01 -3.00797854e-02\n",
      "  8.55276687e-01  4.52127360e-01  2.47022955e-01 -2.75948255e+00\n",
      "  5.72481849e-01  1.81643498e+00  4.80963423e-01 -3.59264633e-01\n",
      " -1.43612373e+00 -9.15356728e-01  9.74437095e-01  1.29992253e+00\n",
      "  2.16175648e+00  1.28708116e+00 -4.38644700e-01  8.14137339e-01\n",
      "  2.34941482e+00  3.15610815e+00  5.48459934e-01  2.92590759e+00\n",
      "  1.70254664e+00  8.25774994e-01  6.21883862e+00  2.19613310e+00\n",
      "  2.27620961e+00  9.06257746e-01  4.84456969e+00  2.14342849e+00\n",
      "  2.81846121e+00 -9.00363039e-02  2.09664141e+00 -8.76512583e-02\n",
      "  1.82419753e+00  3.20695668e+00 -8.37152593e-02  3.30638572e+00\n",
      "  2.05744163e+00  1.51859637e+00 -1.29991771e+00  3.55478772e+00\n",
      "  1.47526327e+00  2.97265845e+00  7.72373582e-02 -7.65673129e-01\n",
      "  7.43761079e-02  1.49498397e+00  2.21392899e+00  3.69601509e+00\n",
      "  3.21568302e+00  3.06244189e+00  2.93251562e+00  1.14708072e+00\n",
      "  1.76313232e+00  1.81199582e+00  2.26990153e+00  6.32875106e+00\n",
      " -1.31405122e+00  1.43998671e+00  2.06008904e+00 -7.59510578e-01\n",
      "  5.55140023e+00 -3.58626905e-01  5.01122873e+00  6.52270821e-01\n",
      "  2.50277711e-01  2.38579302e+00  2.38500578e+00 -2.51408261e+00\n",
      "  3.64252628e+00  3.07785591e+00  1.22607106e+00 -2.36870266e-01\n",
      "  8.33284311e-02  4.32884097e+00  6.97506925e-02  1.38335626e+00\n",
      "  2.72072820e+00  5.30441334e+00 -3.54354655e-02 -8.62962683e-01\n",
      "  3.38560866e+00 -2.52524016e-01  1.51062509e+00  2.01572343e+00\n",
      "  2.49451051e+00  2.07774065e+00 -6.28688331e-02 -1.12928626e+00\n",
      "  1.63500220e+00  1.47176930e+00  1.36458688e+00  1.90730575e+00\n",
      "  2.24331817e+00  3.24275630e+00  1.15506099e-01  1.08318759e+00\n",
      "  2.11223895e+00  2.10427994e+00  9.13410759e-01  5.88410854e-01\n",
      "  7.07910298e-01  2.26463312e+00  5.21737843e+00  2.38333046e+00\n",
      "  2.75031940e+00  4.29823343e+00  5.45691295e-01  2.09078972e+00\n",
      "  4.64682347e+00  2.13941969e+00  5.63508002e+00 -1.62812784e+00\n",
      "  4.00135299e+00  1.59998000e+00  2.54735560e+00 -3.05440500e-01\n",
      "  1.34429457e+00  3.61902707e+00  2.69399781e+00  9.43363053e-01\n",
      "  3.80163094e+00 -1.98299359e-01  1.98641333e+00  3.53047639e+00\n",
      "  2.34575055e+00  5.06563985e-01  4.23047268e+00  3.39653035e+00\n",
      " -6.35407419e-01 -3.22652633e-01 -2.11457374e-01  3.10625205e+00\n",
      "  2.31369103e-01  1.94490424e+00  4.50129462e+00  2.58619263e+00\n",
      "  1.90066665e+00  1.84214071e-01 -2.62543669e+00  4.55768712e+00\n",
      "  7.86184385e-01  3.13139084e+00  2.10658687e+00 -4.52632447e-01\n",
      "  1.83301700e+00  2.26780931e+00  4.04712854e+00  1.32797217e+00\n",
      "  4.01045118e+00  3.43417762e+00  1.36647261e+00  3.17553352e+00\n",
      "  9.96694924e-01  1.90219271e+00 -3.86118043e-01  3.74662745e+00\n",
      "  3.57488028e+00 -3.90231880e-02  4.14306233e+00  1.47694847e+00\n",
      "  2.33112578e+00  3.95574939e+00  3.38218585e+00 -1.09797410e+00\n",
      "  2.25480435e+00  8.82215366e-02  2.40895309e+00  2.46510978e+00\n",
      "  3.49611601e+00  1.17140744e-01  1.67456102e+00  2.19155859e-01\n",
      "  5.14682954e+00  1.85170797e+00  1.35311588e+00  3.76917898e+00\n",
      "  2.91314001e+00  7.61356168e-01  1.54930903e+00  2.92609161e+00\n",
      "  4.34705540e+00  8.87907068e-02  1.67396538e+00  2.26112376e-01\n",
      " -1.05924132e+00  2.89782960e+00  1.91576481e+00  2.63960968e+00\n",
      "  4.55620034e+00  2.92524803e+00  1.00271651e+00 -4.15862137e-01\n",
      "  2.25796199e+00 -1.13064624e+00  1.53345800e+00  1.09266311e+00\n",
      "  1.54642405e+00  1.07520557e-01  3.00571012e+00  2.50568099e+00\n",
      "  3.17234914e+00  2.72898219e+00  1.40782822e+00  2.78988541e+00\n",
      "  4.63527646e+00  1.91417267e+00 -1.14096149e+00  9.90564041e-01\n",
      " -1.06426831e+00  3.54605835e+00  4.87063922e+00  3.47699628e+00\n",
      "  2.70295793e+00  1.73441018e+00  1.71494083e+00  2.44725655e+00\n",
      "  2.39319312e+00  3.96407229e-01  3.71986610e+00  7.50485506e-01\n",
      "  1.33043236e+00  2.51311146e+00  1.80030973e+00 -7.36436402e-01\n",
      "  2.64325395e+00  2.71096518e+00  2.69129134e+00  4.03292407e+00\n",
      "  2.57696461e+00  2.67928728e+00  3.71292159e+00  2.44174696e+00\n",
      "  1.51233108e+00  2.60472145e+00  2.45941018e-01  2.25547263e+00\n",
      "  3.72857909e+00  4.31456659e+00  4.49045194e+00  4.99371028e+00\n",
      " -1.37529718e+00  3.58334741e+00 -2.66610992e-01  4.61889668e+00\n",
      "  4.52865799e+00  4.82376129e+00 -1.04105415e+00  3.24807969e+00\n",
      "  7.04817992e-01  5.19765562e-01  5.06361988e+00  4.63805262e+00\n",
      "  1.94472561e+00  6.95268273e-01  9.70743072e-01  3.12483745e-01\n",
      " -1.24157485e+00  2.29988278e+00 -2.25554754e+00  3.50961675e+00\n",
      "  2.19126056e+00  2.56358877e+00  4.04178227e+00  2.28104236e+00\n",
      "  2.67517913e+00  3.66291218e+00  2.40657420e+00  3.75857782e+00\n",
      "  1.12177123e+00 -1.48504007e-01 -3.49295303e-01  3.29411942e+00\n",
      "  2.06230210e+00  2.51081299e+00 -9.09523395e-01  3.33098759e+00\n",
      "  1.74932276e+00]\n",
      "1.1206887238456493\n"
     ]
    },
    {
     "data": {
      "image/png": "[encoded data removed]",
      "text/plain": [
       "<Figure size 432x288 with 1 Axes>"
      ]
     },
     "metadata": {
      "needs_background": "light"
     },
     "output_type": "display_data"
    }
   ],
   "source": [
    "\n",
    "decoder = OnmsDecoder(H_big, multiplier=1, max_iteration=20);\n",
    "channel = Awgn()\n",
    "modulation = Bpsk()\n",
    "adapter = AwgnLlrAdapter()\n",
    "\n",
    "snr_min = -4\n",
    "snr_max = -3\n",
    "snr_step = 1\n",
    "max_iterations_count = 1\n",
    "fer_threshold = 1\n",
    "\n",
    "settings = Settings(\n",
    "    max_iterations_count,\n",
    "    fer_threshold,\n",
    "    np.arange(snr_min, snr_max, snr_step))\n",
    "\n",
    "result = simulate(settings, codeword_big, modulation, channel, decoder, adapter)\n",
    "\n",
    "print(result['sigmas'])\n",
    "plt.plot(result['snr'], result['fers'])\n",
    "plt.xlabel(\"SNR\")\n",
    "plt.ylabel(\"FER\")\n",
    "plt.title(\"FER dependence from SNR\");"
   ]
  },
  {
   "cell_type": "code",
   "execution_count": 6,
   "metadata": {},
   "outputs": [
    {
     "name": "stdout",
     "output_type": "stream",
     "text": [
      "\n",
      "*** Profile printout saved to text file 'lprof0'. \n"
     ]
    }
   ],
   "source": [
    "from simulation import simulate\n",
    "%lprun -T lprof0 -f simulate simulate(settings,codeword_big,modulation,channel,decoder,adapter)"
   ]
  },
  {
   "cell_type": "code",
   "execution_count": 7,
   "metadata": {},
   "outputs": [
    {
     "name": "stdout",
     "output_type": "stream",
     "text": [
      "\n",
      "*** Profile printout saved to text file 'lprof0'. \n"
     ]
    }
   ],
   "source": [
    "from onms_decoder import OnmsDecoder\n",
    "\n",
    "%lprun -T lprof0 -f OnmsDecoder.decode simulate(settings,codeword_big,modulation,channel,decoder,adapter)"
   ]
  },
  {
   "cell_type": "code",
   "execution_count": 5,
   "metadata": {},
   "outputs": [
    {
     "name": "stdout",
     "output_type": "stream",
     "text": [
      "{'__header__': b'MATLAB 5.0 MAT-file, Platform: PCWIN64, Created on: Mon Mar 23 07:58:02 2020', '__version__': '1.0', '__globals__': [], 'H': <389x485 sparse matrix of type '<class 'numpy.float64'>'\n",
      "\twith 1991 stored elements in Compressed Sparse Column format>}\n"
     ]
    }
   ],
   "source": [
    "import numpy\n",
    "from scipy.io import loadmat\n",
    "from scipy import sparse\n",
    "\n",
    "mat = loadmat('H_R1f6K76.mat')\n",
    "print(mat)\n",
    "H_tocsv = mat['H'].astype(int).todense()\n",
    "\n",
    "numpy.savetxt(\"H_R1f6K76.csv\", H_tocsv, fmt='%i', delimiter=\",\")"
   ]
  },
  {
   "cell_type": "code",
   "execution_count": 9,
   "metadata": {},
   "outputs": [
    {
     "data": {
      "text/plain": [
       "False"
      ]
     },
     "execution_count": 9,
     "metadata": {},
     "output_type": "execute_result"
    }
   ],
   "source": []
  },
  {
   "cell_type": "code",
   "execution_count": null,
   "metadata": {},
   "outputs": [],
   "source": []
  }
 ],
 "metadata": {
  "kernelspec": {
   "display_name": "Python 3",
   "language": "python",
   "name": "python3"
  },
  "language_info": {
   "codemirror_mode": {
    "name": "ipython",
    "version": 3
   },
   "file_extension": ".py",
   "mimetype": "text/x-python",
   "name": "python",
   "nbconvert_exporter": "python",
   "pygments_lexer": "ipython3",
   "version": "3.7.3"
  }
 },
 "nbformat": 4,
 "nbformat_minor": 2
}
