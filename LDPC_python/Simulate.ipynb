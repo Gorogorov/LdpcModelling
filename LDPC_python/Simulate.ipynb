{
 "cells": [
  {
   "cell_type": "code",
   "execution_count": 1,
   "metadata": {},
   "outputs": [],
   "source": [
    "import numpy as np\n",
    "import math\n",
    "import matplotlib.pyplot as plt\n",
    "from collections import namedtuple\n",
    "\n",
    "from onms_decoder import OnmsDecoder\n",
    "from awgn import Awgn\n",
    "from bpsk import Bpsk\n",
    "from awgn_llr_adapter import AwgnLlrAdapter\n",
    "%load_ext line_profiler"
   ]
  },
  {
   "cell_type": "code",
   "execution_count": 2,
   "metadata": {},
   "outputs": [],
   "source": [
    "Settings = namedtuple('Settings', 'max_iter rejections_count snr_array')"
   ]
  },
  {
   "cell_type": "code",
   "execution_count": 3,
   "metadata": {},
   "outputs": [],
   "source": [
    "#%%writefile simulation.py\n",
    "import numpy as np\n",
    "import math\n",
    "import matplotlib.pyplot as plt\n",
    "from collections import namedtuple\n",
    "\n",
    "from onms_decoder import OnmsDecoder\n",
    "from awgn import Awgn\n",
    "from bpsk import Bpsk\n",
    "from awgn_llr_adapter import AwgnLlrAdapter\n",
    "\n",
    "Settings = namedtuple('Settings', 'max_iter rejections_count snr_array')\n",
    "\n",
    "def get_sigma(snr):\n",
    "    return np.sqrt(10 ** (-snr/10)/2)\n",
    "\n",
    "def simulate(settings, codeword, modulation, channel, decoder, decoder_adapter=None):\n",
    "    \n",
    "    simulations_count = len(settings.snr_array)\n",
    "    fers = []\n",
    "    is_max_iteration_reached = []\n",
    "    sigmas = []\n",
    "    \n",
    "    for snr in settings.snr_array:\n",
    "        \n",
    "        sigma = get_sigma(snr)\n",
    "        channel.sigma = sigma\n",
    "        decoder_adapter.sigma = sigma\n",
    "        \n",
    "        errors_count = 0\n",
    "        iterations_count = 0\n",
    "        \n",
    "        while (errors_count <= settings.rejections_count) and (iterations_count < settings.max_iter): \n",
    "            modulated = modulation.modulate(codeword);\n",
    "            transmitted = channel.simulate(modulated);\n",
    "            if decoder_adapter is not None:\n",
    "                transmitted = decoder_adapter.adapt(transmitted)\n",
    "            \n",
    "            decoded = decoder.decode(transmitted)\n",
    "            errors_count += not decoded[0]\n",
    "            iterations_count += 1\n",
    "        \n",
    "        fer = errors_count / iterations_count\n",
    "        fers.append(fer)\n",
    "        is_max_iteration_reached.append(settings.max_iter == iterations_count)\n",
    "        sigmas.append(sigma)\n",
    "        \n",
    "    return {'snr': settings.snr_array.copy(),\n",
    "            'sigmas' : sigma,\n",
    "            'fers':fers,\n",
    "            'is_max_iteration_reached':is_max_iteration_reached }"
   ]
  },
  {
   "cell_type": "code",
   "execution_count": 4,
   "metadata": {},
   "outputs": [],
   "source": [
    "from scipy.io import loadmat\n",
    "from scipy import sparse\n",
    "\n",
    "H = np.array([[1, 1, 1, 1, 0, 0], [0, 0, 1, 1, 0, 1], [1, 0, 0, 1, 1, 0]])\n",
    "codeword = np.array([0, 0, 1, 1, 1, 0])\n",
    "\n",
    "mat = loadmat('H_389_485.mat')\n",
    "H_big = mat['Hb']\n",
    "codeword_big = np.zeros(H_big.shape[1])"
   ]
  },
  {
   "cell_type": "code",
   "execution_count": 13,
   "metadata": {},
   "outputs": [
    {
     "name": "stdout",
     "output_type": "stream",
     "text": [
      "0.2815042799373673\n"
     ]
    },
    {
     "data": {
      "image/png": "[encoded data removed]",
      "text/plain": [
       "<Figure size 432x288 with 1 Axes>"
      ]
     },
     "metadata": {
      "needs_background": "light"
     },
     "output_type": "display_data"
    }
   ],
   "source": [
    "\n",
    "decoder = OnmsDecoder(H_big, multiplier=1, max_iteration=20);\n",
    "channel = Awgn()\n",
    "modulation = Bpsk()\n",
    "adapter = AwgnLlrAdapter()\n",
    "\n",
    "snr_min = 8\n",
    "snr_max = 9\n",
    "snr_step = 1\n",
    "max_iterations_count = 1\n",
    "fer_threshold = 1\n",
    "\n",
    "settings = Settings(\n",
    "    max_iterations_count,\n",
    "    fer_threshold,\n",
    "    np.arange(snr_min, snr_max, snr_step))\n",
    "\n",
    "result = simulate(settings, codeword_big, modulation, channel, decoder, adapter)\n",
    "\n",
    "print(result['sigmas'])\n",
    "plt.plot(result['snr'], result['fers'])\n",
    "plt.xlabel(\"SNR\")\n",
    "plt.ylabel(\"FER\")\n",
    "plt.title(\"FER dependence from SNR\");"
   ]
  },
  {
   "cell_type": "code",
   "execution_count": 6,
   "metadata": {},
   "outputs": [
    {
     "name": "stdout",
     "output_type": "stream",
     "text": [
      "\n",
      "*** Profile printout saved to text file 'lprof0'. \n"
     ]
    }
   ],
   "source": [
    "from simulation import simulate\n",
    "%lprun -T lprof0 -f simulate simulate(settings,codeword_big,modulation,channel,decoder,adapter)"
   ]
  },
  {
   "cell_type": "code",
   "execution_count": 7,
   "metadata": {},
   "outputs": [
    {
     "name": "stdout",
     "output_type": "stream",
     "text": [
      "\n",
      "*** Profile printout saved to text file 'lprof0'. \n"
     ]
    }
   ],
   "source": [
    "from onms_decoder import OnmsDecoder\n",
    "\n",
    "%lprun -T lprof0 -f OnmsDecoder.decode simulate(settings,codeword_big,modulation,channel,decoder,adapter)"
   ]
  },
  {
   "cell_type": "code",
   "execution_count": 12,
   "metadata": {},
   "outputs": [
    {
     "name": "stdout",
     "output_type": "stream",
     "text": [
      "{'__header__': b'MATLAB 5.0 MAT-file, Platform: MACI64, Created on: Wed Feb 12 15:35:41 2020', '__version__': '1.0', '__globals__': [], 'Hb': array([[1, 0, 0, ..., 0, 0, 0],\n",
      "       [0, 1, 0, ..., 0, 0, 0],\n",
      "       [0, 0, 1, ..., 0, 0, 0],\n",
      "       ...,\n",
      "       [0, 0, 0, ..., 1, 0, 0],\n",
      "       [0, 0, 0, ..., 0, 1, 0],\n",
      "       [0, 0, 0, ..., 0, 0, 1]], dtype=uint8)}\n"
     ]
    }
   ],
   "source": [
    "import numpy\n",
    "\n",
    "mat = loadmat('H_389_485.mat')\n",
    "print(mat)\n",
    "H_tocsv = mat['Hb'].astype(int)\n",
    "\n",
    "numpy.savetxt(\"H_389.csv\", H_tocsv, fmt='%i', delimiter=\",\")"
   ]
  },
  {
   "cell_type": "code",
   "execution_count": 9,
   "metadata": {},
   "outputs": [
    {
     "data": {
      "text/plain": [
       "False"
      ]
     },
     "execution_count": 9,
     "metadata": {},
     "output_type": "execute_result"
    }
   ],
   "source": [
    "True ^ True"
   ]
  },
  {
   "cell_type": "code",
   "execution_count": null,
   "metadata": {},
   "outputs": [],
   "source": []
  }
 ],
 "metadata": {
  "kernelspec": {
   "display_name": "Python 3",
   "language": "python",
   "name": "python3"
  },
  "language_info": {
   "codemirror_mode": {
    "name": "ipython",
    "version": 3
   },
   "file_extension": ".py",
   "mimetype": "text/x-python",
   "name": "python",
   "nbconvert_exporter": "python",
   "pygments_lexer": "ipython3",
   "version": "3.7.3"
  }
 },
 "nbformat": 4,
 "nbformat_minor": 2
}
