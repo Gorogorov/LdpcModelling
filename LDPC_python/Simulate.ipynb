{
 "cells": [
  {
   "cell_type": "code",
   "execution_count": 2,
   "metadata": {},
   "outputs": [],
   "source": [
    "import numpy as np\n",
    "import math\n",
    "\n",
    "import pdb; # pdb.set_trace()"
   ]
  },
  {
   "cell_type": "code",
   "execution_count": 49,
   "metadata": {},
   "outputs": [],
   "source": [
    "class DimensionsError(Exception):\n",
    "    def __init__(self, text):\n",
    "        self.txt = text\n",
    "\n",
    "class OnmsDecoder:\n",
    "    def __init__(self, H, multiplier=0.72, offset=0, max_iteration=20):\n",
    "        self.c = multiplier\n",
    "        self.a = offset\n",
    "        \n",
    "        \n",
    "        m = H.shape[0]\n",
    "        n = H.shape[1]\n",
    "\n",
    "        V = [[] for i in range(n)]\n",
    "        C = [[] for i in range(m)]\n",
    "\n",
    "        for i in range(m):\n",
    "            for j in range(n):\n",
    "                if H[i][j] != 1:\n",
    "                    continue\n",
    "\n",
    "                C[i].append(j)\n",
    "                V[j].append(i)\n",
    "                \n",
    "        self.m = m\n",
    "        self.n = n\n",
    "\n",
    "        self.checks = C\n",
    "        self.bits = V\n",
    "        \n",
    "        self.max_iteration = max_iteration; \n",
    "        \n",
    "        return\n",
    "    \n",
    "    def __min_sum_func(self, values):\n",
    "        value = self.c * min(values) - self.a\n",
    "        return value if value > 0 else -value\n",
    "    \n",
    "    def __horizontal_step(self, alpha, beta, gamma):\n",
    "        for j in range(self.m):\n",
    "            \n",
    "            for i in self.checks[j]:\n",
    "                \n",
    "                sign = 1.0\n",
    "                values = []\n",
    "                \n",
    "                for k in self.checks[j]:\n",
    "                    if k == i:\n",
    "                        continue\n",
    "                        \n",
    "                    sign *= alpha[j][k]\n",
    "                    values.append(beta[j][k])\n",
    "                    \n",
    "                gamma[j][i] = sign * self.__min_sum_func(values);\n",
    "        \n",
    "        return;\n",
    "    \n",
    "    def decode(self, llr):\n",
    "        \n",
    "        n = self.n\n",
    "        m = self.m\n",
    "        \n",
    "        if self.n != len(llr):\n",
    "            raise DimensionsError(\"The codeword is not from a code with given check matrix\")\n",
    "            \n",
    "        alpha0 = np.copysign(np.ones(n), llr)\n",
    "        beta0 = np.abs(llr)\n",
    "        \n",
    "        alpha = [{} for _ in range(m)]\n",
    "        beta = [{} for _ in range(m)]\n",
    "        gamma = [{} for _ in range(m)]\n",
    "\n",
    "        for j in range(m):\n",
    "            for i in self.checks[j]:\n",
    "                alpha[j][i]=np.copysign(1, llr[i])\n",
    "                beta[j][i]=np.abs(llr[i])\n",
    "        \n",
    "        iterations = 0;\n",
    "        \n",
    "        while True:\n",
    "            stop+=1\n",
    "            iterations+=1\n",
    "            \n",
    "            self.__horizontal_step(alpha, beta, gamma)\n",
    "            \n",
    "            result = np.zeros(n)\n",
    "            result[alpha0 == -1.0] = 1\n",
    "            \n",
    "            bits_values = alpha0 * beta0\n",
    "            for i in range(n):\n",
    "                for j in self.bits[i]:\n",
    "                    bits_values[i] += gamma[j][i]\n",
    "                    \n",
    "            alpha0 = np.copysign(np.ones(n), bits_values)\n",
    "            beta0 = np.abs(bits_values)\n",
    "            \n",
    "            result = np.zeros(n)\n",
    "            result[alpha0 == -1.0] = 1\n",
    "            \n",
    "            if not (H.dot(result) % 2).any():\n",
    "                break;\n",
    "            \n",
    "            if iterations >= self.max_iteration;\n",
    "                break\n",
    "            \n",
    "            for i in range(n):\n",
    "                value = bits_values[i]\n",
    "            \n",
    "                for j in self.bits[i]:\n",
    "                    new_value = value - gamma[j][i];\n",
    "                    alpha[j][i] = np.copysign(1, new_value);\n",
    "                    beta[j][i] = np.abs(new_value);\n",
    "        \n",
    "        return result "
   ]
  },
  {
   "cell_type": "code",
   "execution_count": 61,
   "metadata": {},
   "outputs": [
    {
     "name": "stdout",
     "output_type": "stream",
     "text": [
      "[ 206.56729272  204.18695341 -202.82623492 -193.90863566 -166.46700846\n",
      "  236.5666663 ]\n"
     ]
    }
   ],
   "source": [
    "H = np.array([[1, 1, 1, 1, 0, 0], [0, 0, 1, 1, 0, 1], [1, 0, 0, 1, 1, 0]])\n",
    "\n",
    "c = np.array([0, 0, 1, 1, 1, 0])\n",
    "\n",
    "c_bpsk = list(map(lambda x: -1 if x == 0 else 1,c))\n",
    "\n",
    "mu, sigma = 0, 0.1\n",
    "e = np.random.normal(mu, sigma, len(c_bpsk))\n",
    "y = c_bpsk + e\n",
    "p = -2*y/(sigma ** 2)\n",
    "print(p)"
   ]
  },
  {
   "cell_type": "code",
   "execution_count": 60,
   "metadata": {},
   "outputs": [
    {
     "data": {
      "text/plain": [
       "array([0., 0., 1., 1., 1., 0.])"
      ]
     },
     "execution_count": 60,
     "metadata": {},
     "output_type": "execute_result"
    }
   ],
   "source": [
    "decoder = OnmsDecoder(H);\n",
    "decoder.decode(p)"
   ]
  },
  {
   "cell_type": "code",
   "execution_count": null,
   "metadata": {},
   "outputs": [],
   "source": []
  }
 ],
 "metadata": {
  "kernelspec": {
   "display_name": "Python 3",
   "language": "python",
   "name": "python3"
  },
  "language_info": {
   "codemirror_mode": {
    "name": "ipython",
    "version": 3
   },
   "file_extension": ".py",
   "mimetype": "text/x-python",
   "name": "python",
   "nbconvert_exporter": "python",
   "pygments_lexer": "ipython3",
   "version": "3.7.3"
  }
 },
 "nbformat": 4,
 "nbformat_minor": 2
}
