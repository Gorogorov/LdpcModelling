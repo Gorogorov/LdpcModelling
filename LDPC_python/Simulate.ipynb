{
 "cells": [
  {
   "cell_type": "code",
   "execution_count": 42,
   "metadata": {},
   "outputs": [],
   "source": [
    "import numpy as np\n",
    "import math\n",
    "from collections import namedtuple\n",
    "\n",
    "from onms_decoder import OnmsDecoder\n",
    "from awgn import Awgn\n",
    "from bpsk import Bpsk\n",
    "from awgn_llr_adapter import AwgnLlrAdapter\n"
   ]
  },
  {
   "cell_type": "code",
   "execution_count": 46,
   "metadata": {},
   "outputs": [],
   "source": [
    "Settings = namedtuple('Settings', 'max_iter rejections_count snr_array')"
   ]
  },
  {
   "cell_type": "code",
   "execution_count": 59,
   "metadata": {},
   "outputs": [],
   "source": [
    "def get_sigma(snr):\n",
    "    return np.sqrt(10 ** (-snr/10)/2)\n",
    "\n",
    "def simulate(settings, codeword, modulation, channel, decoder, decoder_adapter=None):\n",
    "    \n",
    "    for snr in settings.snr_array:\n",
    "        \n",
    "        sigma = get_sigma(snr)\n",
    "        channel.sigma = sigma\n",
    "        decoder_adapter.sigma = sigma\n",
    "        \n",
    "        errors_count = 0\n",
    "        iterations_count = 0\n",
    "        \n",
    "        while (errors_count <= settings.rejections_count) and (iterations_count < settings.max_iter): \n",
    "            modulated = modulation.modulate(codeword);\n",
    "            transmitted = channel.simulate(modulated);\n",
    "            \n",
    "            if decoder_adapter is not None:\n",
    "                transmitted = decoder_adapter.adapt(transmitted)\n",
    "\n",
    "            decoded = decoder.decode(transmitted)\n",
    "            errors_count += not decoded[0]\n",
    "            iterations_count += 1\n",
    "        \n",
    "        print(sigma)\n",
    "        print(errors_count)\n",
    "        print(iterations_count)\n",
    "    return"
   ]
  },
  {
   "cell_type": "code",
   "execution_count": 61,
   "metadata": {},
   "outputs": [
    {
     "name": "stdout",
     "output_type": "stream",
     "text": [
      "0.8901946956877225\n",
      "31\n",
      "154\n",
      "0.7933868576533668\n",
      "31\n",
      "363\n",
      "0.8403979844760322\n",
      "31\n",
      "177\n",
      "0.7490054920699725\n",
      "31\n",
      "213\n",
      "0.7071067811865476\n",
      "31\n",
      "307\n",
      "0.6675518474746908\n",
      "31\n",
      "526\n",
      "0.6302095820932436\n",
      "31\n",
      "656\n",
      "0.5949562103147331\n",
      "31\n",
      "953\n",
      "0.22360679774997896\n",
      "0\n",
      "1000001\n"
     ]
    }
   ],
   "source": [
    "H = np.array([[1, 1, 1, 1, 0, 0], [0, 0, 1, 1, 0, 1], [1, 0, 0, 1, 1, 0]])\n",
    "codeword = np.array([0, 0, 1, 1, 1, 0])\n",
    "\n",
    "decoder = OnmsDecoder(H);\n",
    "channel = Awgn()\n",
    "modulation = Bpsk()\n",
    "adapter = AwgnLlrAdapter()\n",
    "\n",
    "settings = Settings(1000000, 30, [-2, -1, -1.5, -0.5, 0, 0.5, 1, 1.5, 10])\n",
    "simulate(settings, codeword, modulation, channel, decoder, adapter)"
   ]
  },
  {
   "cell_type": "code",
   "execution_count": null,
   "metadata": {},
   "outputs": [],
   "source": []
  },
  {
   "cell_type": "code",
   "execution_count": null,
   "metadata": {},
   "outputs": [],
   "source": []
  }
 ],
 "metadata": {
  "kernelspec": {
   "display_name": "Python 3",
   "language": "python",
   "name": "python3"
  },
  "language_info": {
   "codemirror_mode": {
    "name": "ipython",
    "version": 3
   },
   "file_extension": ".py",
   "mimetype": "text/x-python",
   "name": "python",
   "nbconvert_exporter": "python",
   "pygments_lexer": "ipython3",
   "version": "3.7.3"
  }
 },
 "nbformat": 4,
 "nbformat_minor": 2
}
